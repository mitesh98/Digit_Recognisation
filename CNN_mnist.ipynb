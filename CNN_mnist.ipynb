{
  "nbformat": 4,
  "nbformat_minor": 0,
  "metadata": {
    "colab": {
      "name": "CNN_mnist.ipynb",
      "version": "0.3.2",
      "provenance": [],
      "collapsed_sections": [],
      "include_colab_link": true
    },
    "kernelspec": {
      "name": "python3",
      "display_name": "Python 3"
    },
    "accelerator": "TPU"
  },
  "cells": [
    {
      "cell_type": "markdown",
      "metadata": {
        "id": "view-in-github",
        "colab_type": "text"
      },
      "source": [
        "<a href=\"https://colab.research.google.com/github/mitesh98/Digit_Recognisation/blob/master/CNN_mnist.ipynb\" target=\"_parent\"><img src=\"https://colab.research.google.com/assets/colab-badge.svg\" alt=\"Open In Colab\"/></a>"
      ]
    },
    {
      "metadata": {
        "id": "FsU4B0AGNBiD",
        "colab_type": "code",
        "colab": {}
      },
      "cell_type": "code",
      "source": [
        "import keras\n",
        "from keras.datasets import mnist\n",
        "from keras.models import Sequential\n",
        "from keras.layers import Dense,Dropout,Flatten\n",
        "from keras.layers import Conv2D,MaxPooling2D\n",
        "from keras.utils import to_categorical\n",
        "from keras import backend as K\n",
        "import matplotlib.pyplot as plt"
      ],
      "execution_count": 0,
      "outputs": []
    },
    {
      "metadata": {
        "id": "V6BqKytnOWOK",
        "colab_type": "code",
        "outputId": "27a8137c-40a4-4817-86a2-a0be2911e5f8",
        "colab": {
          "base_uri": "https://localhost:8080/",
          "height": 50
        }
      },
      "cell_type": "code",
      "source": [
        "(x_train,y_train),(x_test,y_test)=mnist.load_data()"
      ],
      "execution_count": 0,
      "outputs": [
        {
          "output_type": "stream",
          "text": [
            "Downloading data from https://s3.amazonaws.com/img-datasets/mnist.npz\n",
            "11493376/11490434 [==============================] - 1s 0us/step\n"
          ],
          "name": "stdout"
        }
      ]
    },
    {
      "metadata": {
        "id": "M9JhAsBeOnsG",
        "colab_type": "code",
        "outputId": "61db912e-9aa6-452c-a590-d2a537636cbf",
        "colab": {
          "base_uri": "https://localhost:8080/",
          "height": 50
        }
      },
      "cell_type": "code",
      "source": [
        "print(\"Number of training examples :\", x_train.shape[0], \"and each image is of shape (%d, %d)\"%(x_train.shape[1], x_train.shape[2]))\n",
        "print(\"Number of training examples :\", x_test.shape[0], \"and each image is of shape (%d, %d)\"%(x_test.shape[1], x_test.shape[2]))"
      ],
      "execution_count": 0,
      "outputs": [
        {
          "output_type": "stream",
          "text": [
            "Number of training examples : 60000 and each image is of shape (28, 28)\n",
            "Number of training examples : 10000 and each image is of shape (28, 28)\n"
          ],
          "name": "stdout"
        }
      ]
    },
    {
      "metadata": {
        "id": "dsNMsJXAOv1o",
        "colab_type": "code",
        "colab": {}
      },
      "cell_type": "code",
      "source": [
        "# if we observe the above matrix each cell is having a value between 0-255\n",
        "# before we move to apply machine learning algorithms lets try to normalize the data\n",
        "# X => (X - Xmin)/(Xmax-Xmin) = X/255\n",
        "x_train=x_train/255\n",
        "x_test=x_test/255"
      ],
      "execution_count": 0,
      "outputs": []
    },
    {
      "metadata": {
        "id": "d_FkbCBcoXJ_",
        "colab_type": "code",
        "colab": {}
      },
      "cell_type": "code",
      "source": [
        "# convert class vectors to binary class matrices\n",
        "y_train=to_categorical(y_train)\n",
        "y_test=to_categorical(y_test)"
      ],
      "execution_count": 0,
      "outputs": []
    },
    {
      "metadata": {
        "id": "8UKlBMzy4JLV",
        "colab_type": "code",
        "colab": {}
      },
      "cell_type": "code",
      "source": [
        "if K.image_data_format() == 'channels_first':\n",
        "    x_train = x_train.reshape(x_train.shape[0], 1, 28,28)\n",
        "    x_test = x_test.reshape(x_test.shape[0], 1, 28,28)\n",
        "    input_shape = (1, 28, 28)\n",
        "else:\n",
        "    x_train = x_train.reshape(x_train.shape[0], 28, 28, 1)\n",
        "    x_test = x_test.reshape(x_test.shape[0], 28, 28, 1)\n",
        "    input_shape = (28, 28, 1)"
      ],
      "execution_count": 0,
      "outputs": []
    },
    {
      "metadata": {
        "id": "ZFWbt4JQ5zXk",
        "colab_type": "code",
        "colab": {}
      },
      "cell_type": "code",
      "source": [
        "print(\"Image Data format:\",K.image_data_format())"
      ],
      "execution_count": 0,
      "outputs": []
    },
    {
      "metadata": {
        "id": "RJDfG9pSPbsv",
        "colab_type": "text"
      },
      "cell_type": "markdown",
      "source": [
        "# Architecture 1: \n",
        "* Kernel Size = (2 ,2)\n",
        "\n",
        "* No of ConvNet Layers=6"
      ]
    },
    {
      "metadata": {
        "id": "3C0hWoaAo9Rt",
        "colab_type": "code",
        "outputId": "dc303d75-f1f3-4dd4-e966-c1d6da004afb",
        "colab": {
          "base_uri": "https://localhost:8080/",
          "height": 390
        }
      },
      "cell_type": "code",
      "source": [
        "#Kernel=(3,3)\n",
        "#5 layers ConvNet + Maxpooling +Dropout\n",
        "\n",
        "model=Sequential()\n",
        "#layer1\n",
        "model.add(Conv2D(16,kernel_size=(2,2),activation='relu',input_shape=(28,28,1))) #filters=16\n",
        "model.add(MaxPooling2D(pool_size=(2, 2),strides=2, padding='same'))\n",
        "model.add(Dropout(0.25))\n",
        "#layer2\n",
        "model.add(Conv2D(8,kernel_size=(2,2),activation='relu')) \n",
        "model.add(MaxPooling2D(pool_size=(3, 3),strides=1, padding='same'))\n",
        "model.add(Dropout(0.20))\n",
        "#layer3\n",
        "model.add(Conv2D(8,kernel_size=(2,2),activation='relu')) \n",
        "model.add(MaxPooling2D(pool_size=(2, 2),strides=2, padding='valid'))\n",
        "model.add(Dropout(0.20))\n",
        "#layer4\n",
        "model.add(Conv2D(4,kernel_size=(2,2),activation='relu')) \n",
        "model.add(MaxPooling2D(pool_size=(3, 3),strides=1, padding='same'))\n",
        "model.add(Dropout(0.25))\n",
        "#layer5\n",
        "model.add(Conv2D(2,kernel_size=(2,2),activation='relu'))\n",
        "model.add(MaxPooling2D(pool_size=(2, 2),strides=2, padding='valid'))\n",
        "model.add(Dropout(0.20))\n",
        "#layer6\n",
        "model.add(Conv2D(4,kernel_size=(2,2),activation='relu')) \n",
        "model.add(MaxPooling2D(pool_size=(3, 3),strides=1, padding='same'))\n",
        "model.add(Dropout(0.25))\n",
        "#Flattening\n",
        "model.add(Flatten())\n",
        "#MLP-1\n",
        "model.add(Dense(128,activation='relu'))\n",
        "model.add(Dropout(0.5))\n",
        "#MLP-2\n",
        "model.add(Dense(10,activation='softmax'))\n",
        "#compile\n",
        "model.compile(loss='categorical_crossentropy',optimizer='adam',metrics=['accuracy'])\n",
        "history=model.fit(x_train,y_train,batch_size=128,epochs=10,verbose=1,validation_data=(x_test,y_test))\n"
      ],
      "execution_count": 0,
      "outputs": [
        {
          "output_type": "stream",
          "text": [
            "Train on 60000 samples, validate on 10000 samples\n",
            "Epoch 1/10\n",
            "60000/60000 [==============================] - 35s 592us/step - loss: 2.1705 - acc: 0.1742 - val_loss: 1.7789 - val_acc: 0.3911\n",
            "Epoch 2/10\n",
            "60000/60000 [==============================] - 34s 568us/step - loss: 1.7403 - acc: 0.3372 - val_loss: 1.5126 - val_acc: 0.4317\n",
            "Epoch 3/10\n",
            "60000/60000 [==============================] - 35s 577us/step - loss: 1.6228 - acc: 0.3819 - val_loss: 1.4831 - val_acc: 0.4706\n",
            "Epoch 4/10\n",
            "60000/60000 [==============================] - 35s 582us/step - loss: 1.5660 - acc: 0.4087 - val_loss: 1.3804 - val_acc: 0.4936\n",
            "Epoch 5/10\n",
            "60000/60000 [==============================] - 35s 586us/step - loss: 1.5402 - acc: 0.4226 - val_loss: 1.4117 - val_acc: 0.4804\n",
            "Epoch 6/10\n",
            "60000/60000 [==============================] - 35s 587us/step - loss: 1.5124 - acc: 0.4293 - val_loss: 1.3430 - val_acc: 0.5145\n",
            "Epoch 7/10\n",
            "60000/60000 [==============================] - 35s 584us/step - loss: 1.4959 - acc: 0.4347 - val_loss: 1.3737 - val_acc: 0.4891\n",
            "Epoch 8/10\n",
            "60000/60000 [==============================] - 35s 591us/step - loss: 1.4845 - acc: 0.4401 - val_loss: 1.2887 - val_acc: 0.5449\n",
            "Epoch 9/10\n",
            "60000/60000 [==============================] - 35s 587us/step - loss: 1.4746 - acc: 0.4455 - val_loss: 1.2597 - val_acc: 0.5606\n",
            "Epoch 10/10\n",
            "60000/60000 [==============================] - 35s 589us/step - loss: 1.4605 - acc: 0.4458 - val_loss: 1.2595 - val_acc: 0.5831\n"
          ],
          "name": "stdout"
        }
      ]
    },
    {
      "metadata": {
        "id": "ceD1YMxKs57t",
        "colab_type": "code",
        "outputId": "6673dd01-ead9-44bd-c106-ac72f8dab001",
        "colab": {
          "base_uri": "https://localhost:8080/",
          "height": 410
        }
      },
      "cell_type": "code",
      "source": [
        "score=model.evaluate(x_test,y_test,verbose=0)\n",
        "print('Test Loss:%.4f '%score[0])\n",
        "print('Test Accuracy: ',score[1])\n",
        "x = list(range(1,11))\n",
        "val_loss=history.history['val_loss']\n",
        "tr_loss=history.history['loss']\n",
        "plt.plot(x,val_loss,label=\"Validation LOss\")\n",
        "plt.plot(x,tr_loss,label=\"Training LOss\")\n",
        "plt.xlabel(\"No of Epochs\")\n",
        "plt.ylabel(\"Loss\")\n",
        "plt.title(\"Loss Vs Epochs\")\n",
        "plt.legend()\n",
        "plt.show()"
      ],
      "execution_count": 0,
      "outputs": [
        {
          "output_type": "stream",
          "text": [
            "Test Loss:1.2595 \n",
            "Test Accuracy:  0.5831\n"
          ],
          "name": "stdout"
        },
        {
          "output_type": "display_data",
          "data": {
            "image/png": "[encoded data removed]",
            "text/plain": [
              "<Figure size 576x396 with 1 Axes>"
            ]
          },
          "metadata": {
            "tags": []
          }
        }
      ]
    },
    {
      "metadata": {
        "id": "psiZMgFEttdL",
        "colab_type": "text"
      },
      "cell_type": "markdown",
      "source": [
        "# 2. Architecture-2\n",
        "Kernel Size=(3 , 3)\n",
        "\n",
        "No of layers=5\n"
      ]
    },
    {
      "metadata": {
        "id": "rROPvlbatso4",
        "colab_type": "code",
        "outputId": "6a56229c-0429-417f-81c2-c1c7d202ebed",
        "colab": {
          "base_uri": "https://localhost:8080/",
          "height": 457
        }
      },
      "cell_type": "code",
      "source": [
        "#Kernel=(3,3)\n",
        "#5 layers ConvNet + Maxpooling +Dropout\n",
        "\n",
        "model=Sequential()\n",
        "#layer1\n",
        "model.add(Conv2D(32,kernel_size=(3,3),activation='relu',input_shape=input_shape)) #filters=32\n",
        "model.add(MaxPooling2D(pool_size=(2, 2),strides=2, padding='same'))\n",
        "model.add(Dropout(0.25))\n",
        "#layer2\n",
        "model.add(Conv2D(16,kernel_size=(3,3),activation='relu')) \n",
        "model.add(MaxPooling2D(pool_size=(3, 3),strides=1, padding='same'))\n",
        "model.add(Dropout(0.20))\n",
        "#layer3\n",
        "model.add(Conv2D(8,kernel_size=(3,3),activation='relu')) \n",
        "model.add(MaxPooling2D(pool_size=(2, 2),strides=2, padding='same'))\n",
        "model.add(Dropout(0.20))\n",
        "#layer4\n",
        "model.add(Conv2D(4,kernel_size=(3,3),activation='relu')) \n",
        "model.add(MaxPooling2D(pool_size=(3, 3),strides=1, padding='same'))\n",
        "model.add(Dropout(0.25))\n",
        "#layer5\n",
        "model.add(Conv2D(2,kernel_size=(3,3),activation='relu')) \n",
        "model.add(MaxPooling2D(pool_size=(2, 2),strides=2, padding='same'))\n",
        "model.add(Dropout(0.20))\n",
        "#Flattening\n",
        "model.add(Flatten())\n",
        "#MLP-1\n",
        "model.add(Dense(128,activation='relu'))\n",
        "model.add(Dropout(0.5))\n",
        "#MLP-2\n",
        "model.add(Dense(10,activation='softmax'))\n",
        "#compile\n",
        "model.compile(loss='categorical_crossentropy',optimizer='adam',metrics=['accuracy'])\n",
        "history=model.fit(x_train,y_train,batch_size=128,epochs=12,verbose=1,validation_data=(x_test,y_test))\n"
      ],
      "execution_count": 0,
      "outputs": [
        {
          "output_type": "stream",
          "text": [
            "Train on 60000 samples, validate on 10000 samples\n",
            "Epoch 1/12\n",
            "60000/60000 [==============================] - 61s 1ms/step - loss: 1.9947 - acc: 0.2163 - val_loss: 1.5339 - val_acc: 0.4172\n",
            "Epoch 2/12\n",
            "60000/60000 [==============================] - 59s 978us/step - loss: 1.6880 - acc: 0.3156 - val_loss: 1.3834 - val_acc: 0.4300\n",
            "Epoch 3/12\n",
            "60000/60000 [==============================] - 60s 993us/step - loss: 1.6349 - acc: 0.3278 - val_loss: 1.3435 - val_acc: 0.4068\n",
            "Epoch 4/12\n",
            "60000/60000 [==============================] - 59s 986us/step - loss: 1.5979 - acc: 0.3437 - val_loss: 1.3173 - val_acc: 0.4441\n",
            "Epoch 5/12\n",
            "60000/60000 [==============================] - 59s 980us/step - loss: 1.5507 - acc: 0.3738 - val_loss: 1.1010 - val_acc: 0.5531\n",
            "Epoch 6/12\n",
            "60000/60000 [==============================] - 59s 981us/step - loss: 1.3874 - acc: 0.4581 - val_loss: 0.9402 - val_acc: 0.6018\n",
            "Epoch 7/12\n",
            "60000/60000 [==============================] - 59s 984us/step - loss: 1.3182 - acc: 0.4855 - val_loss: 0.8863 - val_acc: 0.6323\n",
            "Epoch 8/12\n",
            "60000/60000 [==============================] - 59s 992us/step - loss: 1.2803 - acc: 0.5017 - val_loss: 0.8382 - val_acc: 0.6661\n",
            "Epoch 9/12\n",
            "60000/60000 [==============================] - 59s 976us/step - loss: 1.2535 - acc: 0.5217 - val_loss: 0.8039 - val_acc: 0.6920\n",
            "Epoch 10/12\n",
            "60000/60000 [==============================] - 58s 973us/step - loss: 1.2257 - acc: 0.5397 - val_loss: 0.7956 - val_acc: 0.6971\n",
            "Epoch 11/12\n",
            "60000/60000 [==============================] - 59s 978us/step - loss: 1.2105 - acc: 0.5496 - val_loss: 0.7672 - val_acc: 0.7227\n",
            "Epoch 12/12\n",
            "60000/60000 [==============================] - 58s 967us/step - loss: 1.1963 - acc: 0.5591 - val_loss: 0.7554 - val_acc: 0.6986\n"
          ],
          "name": "stdout"
        }
      ]
    },
    {
      "metadata": {
        "id": "qMvmRwXIv5V3",
        "colab_type": "code",
        "outputId": "68625e71-4e3b-4ae0-b0c7-eb33a88b1e06",
        "colab": {
          "base_uri": "https://localhost:8080/",
          "height": 410
        }
      },
      "cell_type": "code",
      "source": [
        "score=model.evaluate(x_test,y_test,verbose=0)\n",
        "print('Test Loss:%.4f '%score[0])\n",
        "print('Test Accuracy: ',score[1])\n",
        "x = list(range(1,13))\n",
        "val_loss=history.history['val_loss']\n",
        "tr_loss=history.history['loss']\n",
        "plt.plot(x,val_loss,label=\"Validation LOss\")\n",
        "plt.plot(x,tr_loss,label=\"Training LOss\")\n",
        "plt.xlabel(\"No of Epochs\")\n",
        "plt.ylabel(\"Loss\")\n",
        "plt.title(\"Loss Vs Epochs\")\n",
        "plt.legend()\n",
        "plt.show()"
      ],
      "execution_count": 0,
      "outputs": [
        {
          "output_type": "stream",
          "text": [
            "Test Loss:0.7554 \n",
            "Test Accuracy:  0.6986\n"
          ],
          "name": "stdout"
        },
        {
          "output_type": "display_data",
          "data": {
            "image/png": "[encoded data removed]",
            "text/plain": [
              "<Figure size 576x396 with 1 Axes>"
            ]
          },
          "metadata": {
            "tags": []
          }
        }
      ]
    },
    {
      "metadata": {
        "id": "BeH1OqiHv8El",
        "colab_type": "text"
      },
      "cell_type": "markdown",
      "source": [
        "# 2. Architecture-2\n",
        "\n",
        "Kernel Size=(5 , 5)\n",
        "\n",
        "No of layers=3"
      ]
    },
    {
      "metadata": {
        "id": "QkchyOUvwLVi",
        "colab_type": "code",
        "outputId": "2b48f689-33b3-4653-d88e-dd816af6e34e",
        "colab": {
          "base_uri": "https://localhost:8080/",
          "height": 390
        }
      },
      "cell_type": "code",
      "source": [
        "#Kernel=(5,5)\n",
        "#3 layers ConvNet + Maxpooling +Dropout\n",
        "\n",
        "model=Sequential()\n",
        "#layer1\n",
        "model.add(Conv2D(32,kernel_size=(5,5),activation='relu',input_shape=(28,28,1))) #filters=32\n",
        "model.add(MaxPooling2D(pool_size=(2, 2),strides=2, padding='same'))\n",
        "model.add(Dropout(0.25))\n",
        "#layer2\n",
        "model.add(Conv2D(16,kernel_size=(5,5),activation='relu')) \n",
        "model.add(MaxPooling2D(pool_size=(3, 3),strides=1, padding='same'))\n",
        "model.add(Dropout(0.20))\n",
        "#layer3\n",
        "model.add(Conv2D(8,kernel_size=(5,5),activation='relu'))\n",
        "model.add(MaxPooling2D(pool_size=(2, 2),strides=2, padding='same'))\n",
        "model.add(Dropout(0.20))\n",
        "\n",
        "#Flattening\n",
        "model.add(Flatten())\n",
        "#MLP-1\n",
        "model.add(Dense(128,activation='relu'))\n",
        "model.add(Dropout(0.5))\n",
        "#MLP-2\n",
        "model.add(Dense(10,activation='softmax'))\n",
        "#compile\n",
        "model.compile(loss='categorical_crossentropy',optimizer='adam',metrics=['accuracy'])\n",
        "history=model.fit(x_train,y_train,batch_size=128,epochs=10,verbose=1,validation_data=(x_test,y_test))\n"
      ],
      "execution_count": 0,
      "outputs": [
        {
          "output_type": "stream",
          "text": [
            "Train on 60000 samples, validate on 10000 samples\n",
            "Epoch 1/10\n",
            "60000/60000 [==============================] - 71s 1ms/step - loss: 0.6997 - acc: 0.7668 - val_loss: 0.1151 - val_acc: 0.9627\n",
            "Epoch 2/10\n",
            "60000/60000 [==============================] - 69s 1ms/step - loss: 0.2352 - acc: 0.9294 - val_loss: 0.0743 - val_acc: 0.9769\n",
            "Epoch 3/10\n",
            "60000/60000 [==============================] - 69s 1ms/step - loss: 0.1719 - acc: 0.9493 - val_loss: 0.0543 - val_acc: 0.9839\n",
            "Epoch 4/10\n",
            "60000/60000 [==============================] - 69s 1ms/step - loss: 0.1458 - acc: 0.9584 - val_loss: 0.0456 - val_acc: 0.9871\n",
            "Epoch 5/10\n",
            "60000/60000 [==============================] - 68s 1ms/step - loss: 0.1255 - acc: 0.9631 - val_loss: 0.0391 - val_acc: 0.9881\n",
            "Epoch 6/10\n",
            "60000/60000 [==============================] - 68s 1ms/step - loss: 0.1105 - acc: 0.9678 - val_loss: 0.0401 - val_acc: 0.9873\n",
            "Epoch 7/10\n",
            "60000/60000 [==============================] - 68s 1ms/step - loss: 0.1027 - acc: 0.9702 - val_loss: 0.0360 - val_acc: 0.9893\n",
            "Epoch 8/10\n",
            "60000/60000 [==============================] - 69s 1ms/step - loss: 0.0949 - acc: 0.9722 - val_loss: 0.0319 - val_acc: 0.9902\n",
            "Epoch 9/10\n",
            "60000/60000 [==============================] - 68s 1ms/step - loss: 0.0908 - acc: 0.9740 - val_loss: 0.0344 - val_acc: 0.9892\n",
            "Epoch 10/10\n",
            "60000/60000 [==============================] - 68s 1ms/step - loss: 0.0832 - acc: 0.9752 - val_loss: 0.0336 - val_acc: 0.9893\n"
          ],
          "name": "stdout"
        }
      ]
    },
    {
      "metadata": {
        "id": "tDQGHdjC1yO1",
        "colab_type": "code",
        "outputId": "f07ca714-5b23-45f2-88b5-c7b72102a89b",
        "colab": {
          "base_uri": "https://localhost:8080/",
          "height": 410
        }
      },
      "cell_type": "code",
      "source": [
        "score=model.evaluate(x_test,y_test,verbose=0)\n",
        "print('Test Loss:%.4f '%score[0])\n",
        "print('Test Accuracy: ',score[1])\n",
        "x = list(range(1,11))\n",
        "val_loss=history.history['val_loss']\n",
        "tr_loss=history.history['loss']\n",
        "plt.plot(x,val_loss,label=\"Validation LOss\")\n",
        "plt.plot(x,tr_loss,label=\"Training LOss\")\n",
        "plt.xlabel(\"No of Epochs\")\n",
        "plt.ylabel(\"Loss\")\n",
        "plt.title(\"Loss Vs Epochs\")\n",
        "plt.legend()\n",
        "plt.show()"
      ],
      "execution_count": 0,
      "outputs": [
        {
          "output_type": "stream",
          "text": [
            "Test Loss:0.0336 \n",
            "Test Accuracy:  0.9893\n"
          ],
          "name": "stdout"
        },
        {
          "output_type": "display_data",
          "data": {
            "image/png": "[encoded data removed]",
            "text/plain": [
              "<Figure size 576x396 with 1 Axes>"
            ]
          },
          "metadata": {
            "tags": []
          }
        }
      ]
    },
    {
      "metadata": {
        "id": "Sru9opZHxSj8",
        "colab_type": "text"
      },
      "cell_type": "markdown",
      "source": [
        "# Conclusion:"
      ]
    },
    {
      "metadata": {
        "id": "nRAe1I9WxWJk",
        "colab_type": "code",
        "outputId": "467c9c3b-0bc0-4130-b3d5-0c78462df7cb",
        "colab": {
          "base_uri": "https://localhost:8080/",
          "height": 134
        }
      },
      "cell_type": "code",
      "source": [
        "from prettytable import PrettyTable\n",
        "x=PrettyTable()\n",
        "x.field_names=['Kernel Size','No of ConvNet Layers','Accuracy']\n",
        "x.add_row(['2*2','6',' 0.5831'])\n",
        "x.add_row(['3*3','5',' 0.6986'])\n",
        "x.add_row(['5*5','3',' 0.9893'])\n",
        "print(x)"
      ],
      "execution_count": 0,
      "outputs": [
        {
          "output_type": "stream",
          "text": [
            "+-------------+----------------------+----------+\n",
            "| Kernel Size | No of ConvNet Layers | Accuracy |\n",
            "+-------------+----------------------+----------+\n",
            "|     2*2     |          6           |  0.5831  |\n",
            "|     3*3     |          5           |  0.6986  |\n",
            "|     5*5     |          3           |  0.9893  |\n",
            "+-------------+----------------------+----------+\n"
          ],
          "name": "stdout"
        }
      ]
    },
    {
      "metadata": {
        "id": "jhL2FQJg9bjw",
        "colab_type": "text"
      },
      "cell_type": "markdown",
      "source": [
        "# Observations:\n",
        "\n",
        "**1. In architecture-1 we model is highly overfitting as both training and validation loss is too high.\n",
        "So we can try to decrease the depth of model to decrease the parameters.Performance is not good **\n",
        "\n",
        "**2.  In architecture-2 our model is better than first one.But its still overfitting as both training and validation loss is thigh.\n",
        " Performance is still not good.So we can try to some other architecture.**\n",
        "\n",
        "**3.  In architecture-3 our model performance is good.**\n",
        "\n"
      ]
    }
  ]
}